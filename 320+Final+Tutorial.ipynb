{
 "cells": [
  {
   "cell_type": "markdown",
   "metadata": {},
   "source": [
    "# Introduction:\n",
    "***\n",
    "This tutorial will introduce a few basic methods for processing financial data, with a focus on individual stock growth. Financial data is an area where many individuals and corporations take interest in with the hope of predicting market movement and direction in order to make informed trade decisions for profit. As with many data science topics, the goal would be to utilize the data and interpret in a meaningful way to identify and/or predict trends.     \n",
    "  \n",
    "  \n",
    "# Tutorial Content: \n",
    "***\n",
    "Due to my extremely limited knowledge of the financial field, this tutorial will have a focus on acquiring and visualizing the data, with a bit of data analysis and machine learning to illustrate some concepts. In this tutorial, a few of the main python libraries we will be utilizing are [Pandas](http://pandas.pydata.org/pandas-docs/version/0.19.2/), [BeautifulSoup](https://www.crummy.com/software/BeautifulSoup/), and [pyplot](https://matplotlib.org/).  \n",
    "  \n",
    "We will be utilizing data scraped from Bloomberg's stocks section: https://www.bloomberg.com/markets/stocks, as well as historical stock data from Google finance: https://www.google.com/finance. While the data from Bloomberg only displays a fairly limited number of stocks representative of each region, the methods from this tutorial can be extended for usage on other websites with moderate tweaking.  \n",
    "  \n",
    "In this tutorial, we will cover the basic concepts of the data science pipeline, including but not limited to the following subjects:  \n",
    "* Data Curation, Parsing, and Management\n",
    "* Exploratory Data Analysis\n",
    "* Hypothesis Testing\n",
    "* Machine Learning\n",
    "\n",
    "# Setup:\n",
    "***\n",
    "Before we get started with anything else, we need to import a few python libraries that will be critical to this tutorial. Below is the code provided to set up the notebook. Don't worry too much about the imports for now since they will be explained as they come up in this tutorial."
   ]
  },
  {
   "cell_type": "code",
   "execution_count": 1,
   "metadata": {
    "collapsed": false
   },
   "outputs": [
    {
     "data": {
      "text/html": [
       "<style>.container { width:85% !important; }</style>"
      ],
      "text/plain": [
       "<IPython.core.display.HTML object>"
      ]
     },
     "metadata": {},
     "output_type": "display_data"
    }
   ],
   "source": [
    "import html5lib, re, requests\n",
    "from scipy import stats\n",
    "import pandas as pd\n",
    "import numpy as np\n",
    "from bs4 import BeautifulSoup\n",
    "from IPython.core.display import display, HTML\n",
    "import matplotlib.pyplot as plt\n",
    "from sklearn import datasets\n",
    "\n",
    "# Optimize notebook width, row, and columns for for visual clarity\n",
    "display(HTML(\"<style>.container { width:85% !important; }</style>\"))\n",
    "pd.set_option('display.max_rows', 10)\n",
    "pd.set_option('display.width', 1000)"
   ]
  },
  {
   "cell_type": "markdown",
   "metadata": {},
   "source": [
    "# Data Curation, Parsing, and Management\n",
    "***\n",
    "Before we can even begin doing any sort of analysis, we must first acquire data to perform analysis on. That brings us to the first step within the data science pipeline: data curation. Data curation is very broad term that can refer to the management of data anywhere from the creation of it and its storage, to its archival and deletion. Clearly this seems quite expansive but we can take it in this context to essentially mean gathering data and storing it in a suitable medium.  \n",
    "  \n",
    "For this tutorial, we will be utilizing the 'requests' library to perform HTTP get requests on websites for web scraping (to retrieve its HTML). To begin, we want to scrape the stock data from Bloomberg's Americas, Europe, Africa, Middle East, and Asian Pacific markets. We can retrieve the website using the following code:"
   ]
  },
  {
   "cell_type": "code",
   "execution_count": 2,
   "metadata": {
    "collapsed": false
   },
   "outputs": [],
   "source": [
    "# Use requests to get a connection to the URL\n",
    "temp = requests.get('https://www.bloomberg.com/markets/stocks/world-indexes/americas')\n",
    "temp2 = requests.get('https://www.bloomberg.com/markets/stocks/world-indexes/europe-africa-middle-east')\n",
    "temp3 = requests.get('https://www.bloomberg.com/markets/stocks/world-indexes/asia-pacific')\n",
    "\n",
    "# The above line of code will give us a connection to the website but we can't quite do anything with that so what \n",
    "# we'll want to do is utilize the 'BeautifulSoup' library to parse the data into lxml:\n",
    "root = BeautifulSoup(temp.content,'lxml')\n",
    "root2 = BeautifulSoup(temp2.content,'lxml')\n",
    "root3 = BeautifulSoup(temp3.content,'lxml')"
   ]
  },
  {
   "cell_type": "markdown",
   "metadata": {},
   "source": [
    "Now that we have the website, we'll want to look through the HTML to find out where the relevant data of the website will be contained. By analyzing Bloomberg's HTML, we can see that each row of stock data is contained within a '<tr>' tag with the class of 'data-table-row.' Since we know all of this, we can utilize 'BeautifulSoup' findAll() function in order to parse through the data and return all of the stock data rows. Now that we have this data we'll want to store it in a 'Pandas' dataframe since it provides an efficient data structure that possesses high-performance and allows for data analysis."
   ]
  },
  {
   "cell_type": "code",
   "execution_count": 3,
   "metadata": {
    "collapsed": false
   },
   "outputs": [
    {
     "data": {
      "text/html": [
       "<div>\n",
       "<table border=\"1\" class=\"dataframe\">\n",
       "  <thead>\n",
       "    <tr style=\"text-align: right;\">\n",
       "      <th></th>\n",
       "      <th>data</th>\n",
       "    </tr>\n",
       "  </thead>\n",
       "  <tbody>\n",
       "    <tr>\n",
       "      <th>0</th>\n",
       "      <td>&lt;tr class=\"data-table-row\"&gt; &lt;td class=\"data-ta...</td>\n",
       "    </tr>\n",
       "    <tr>\n",
       "      <th>1</th>\n",
       "      <td>&lt;tr class=\"data-table-row\"&gt; &lt;td class=\"data-ta...</td>\n",
       "    </tr>\n",
       "    <tr>\n",
       "      <th>2</th>\n",
       "      <td>&lt;tr class=\"data-table-row\"&gt; &lt;td class=\"data-ta...</td>\n",
       "    </tr>\n",
       "    <tr>\n",
       "      <th>3</th>\n",
       "      <td>&lt;tr class=\"data-table-row\"&gt; &lt;td class=\"data-ta...</td>\n",
       "    </tr>\n",
       "    <tr>\n",
       "      <th>4</th>\n",
       "      <td>&lt;tr class=\"data-table-row\"&gt; &lt;td class=\"data-ta...</td>\n",
       "    </tr>\n",
       "    <tr>\n",
       "      <th>...</th>\n",
       "      <td>...</td>\n",
       "    </tr>\n",
       "    <tr>\n",
       "      <th>212</th>\n",
       "      <td>&lt;tr class=\"data-table-row\"&gt; &lt;td class=\"data-ta...</td>\n",
       "    </tr>\n",
       "    <tr>\n",
       "      <th>213</th>\n",
       "      <td>&lt;tr class=\"data-table-row\"&gt; &lt;td class=\"data-ta...</td>\n",
       "    </tr>\n",
       "    <tr>\n",
       "      <th>214</th>\n",
       "      <td>&lt;tr class=\"data-table-row\"&gt; &lt;td class=\"data-ta...</td>\n",
       "    </tr>\n",
       "    <tr>\n",
       "      <th>215</th>\n",
       "      <td>&lt;tr class=\"data-table-row\"&gt; &lt;td class=\"data-ta...</td>\n",
       "    </tr>\n",
       "    <tr>\n",
       "      <th>216</th>\n",
       "      <td>&lt;tr class=\"data-table-row\"&gt; &lt;td class=\"data-ta...</td>\n",
       "    </tr>\n",
       "  </tbody>\n",
       "</table>\n",
       "<p>217 rows × 1 columns</p>\n",
       "</div>"
      ],
      "text/plain": [
       "                                                  data\n",
       "0    <tr class=\"data-table-row\"> <td class=\"data-ta...\n",
       "1    <tr class=\"data-table-row\"> <td class=\"data-ta...\n",
       "2    <tr class=\"data-table-row\"> <td class=\"data-ta...\n",
       "3    <tr class=\"data-table-row\"> <td class=\"data-ta...\n",
       "4    <tr class=\"data-table-row\"> <td class=\"data-ta...\n",
       "..                                                 ...\n",
       "212  <tr class=\"data-table-row\"> <td class=\"data-ta...\n",
       "213  <tr class=\"data-table-row\"> <td class=\"data-ta...\n",
       "214  <tr class=\"data-table-row\"> <td class=\"data-ta...\n",
       "215  <tr class=\"data-table-row\"> <td class=\"data-ta...\n",
       "216  <tr class=\"data-table-row\"> <td class=\"data-ta...\n",
       "\n",
       "[217 rows x 1 columns]"
      ]
     },
     "execution_count": 3,
     "metadata": {},
     "output_type": "execute_result"
    }
   ],
   "source": [
    "# Use BeautifulSoup's findAll function to find all table rows\n",
    "table = root.findAll(\"tr\", {\"class\" : \"data-table-row\" })\n",
    "table2 = root2.findAll(\"tr\", {\"class\" : \"data-table-row\" })\n",
    "table3 = root3.findAll(\"tr\", {\"class\" : \"data-table-row\" })\n",
    "\n",
    "# Use pandas to import the table from above step into a dataframe named df\n",
    "df = pd.DataFrame(table+table2+table3,columns=['data'])\n",
    "df"
   ]
  },
  {
   "cell_type": "markdown",
   "metadata": {},
   "source": [
    "Okay, so now we have a Pandas dataframe consisting of rows of HTML containing the information of stock data. That doesn't seem to look very readable or provide any sort of insight into our data. Now what? This is where data parsing comes into play.\n",
    "\n",
    "### Data Parsing and Management\n",
    "We will need to use the 're' library, short for regular expressions, in order to capture the data that is hidden in between the HTML tags. We need to craft a regex 'formula' in order to match the HTML relevant to what we're looking for (https://www.pythex.org is a great resource for testing out your python regex formulas). What the code below will do is iterate through each row in the table and split them. After that, it will iterate through the split rows to match the regex and extract the name and 1 month percent change elements between the appropiate tags. \n",
    "\n",
    "When all that is done, we're left with a dataframe possessing 3 columns, the initial 'data' column, the stock 'name' column, and the 1 month projection '1_month' column. Since we have already extracted the data we care about, we can now delete the initial column."
   ]
  },
  {
   "cell_type": "code",
   "execution_count": 4,
   "metadata": {
    "collapsed": false
   },
   "outputs": [
    {
     "data": {
      "text/html": [
       "<div>\n",
       "<table border=\"1\" class=\"dataframe\">\n",
       "  <thead>\n",
       "    <tr style=\"text-align: right;\">\n",
       "      <th></th>\n",
       "      <th>name</th>\n",
       "      <th>1_month</th>\n",
       "    </tr>\n",
       "  </thead>\n",
       "  <tbody>\n",
       "    <tr>\n",
       "      <th>0</th>\n",
       "      <td>NASDAQ TRANSPORTATION IX</td>\n",
       "      <td>+0.85%</td>\n",
       "    </tr>\n",
       "    <tr>\n",
       "      <th>1</th>\n",
       "      <td>S&amp;amp;P 600 SMALLCAP INDEX</td>\n",
       "      <td>-0.72%</td>\n",
       "    </tr>\n",
       "    <tr>\n",
       "      <th>2</th>\n",
       "      <td>RUSSELL 2000 INDEX</td>\n",
       "      <td>-0.44%</td>\n",
       "    </tr>\n",
       "    <tr>\n",
       "      <th>3</th>\n",
       "      <td>NASDAQ BIOTECH INDEX</td>\n",
       "      <td>+1.25%</td>\n",
       "    </tr>\n",
       "    <tr>\n",
       "      <th>4</th>\n",
       "      <td>DOW JONES INDUS. AVG</td>\n",
       "      <td>+1.27%</td>\n",
       "    </tr>\n",
       "    <tr>\n",
       "      <th>...</th>\n",
       "      <td>...</td>\n",
       "      <td>...</td>\n",
       "    </tr>\n",
       "    <tr>\n",
       "      <th>212</th>\n",
       "      <td>MSE Top 20 Index</td>\n",
       "      <td>-3.67%</td>\n",
       "    </tr>\n",
       "    <tr>\n",
       "      <th>213</th>\n",
       "      <td>MSCI ASIA APEX 50</td>\n",
       "      <td>+8.28%</td>\n",
       "    </tr>\n",
       "    <tr>\n",
       "      <th>214</th>\n",
       "      <td>Laos Composite Index</td>\n",
       "      <td>-2.73%</td>\n",
       "    </tr>\n",
       "    <tr>\n",
       "      <th>215</th>\n",
       "      <td>PSEi - PHILIPPINE SE IDX</td>\n",
       "      <td>+3.02%</td>\n",
       "    </tr>\n",
       "    <tr>\n",
       "      <th>216</th>\n",
       "      <td>SRI LANKA COLOMBO ALL SH</td>\n",
       "      <td>+3.89%</td>\n",
       "    </tr>\n",
       "  </tbody>\n",
       "</table>\n",
       "<p>217 rows × 2 columns</p>\n",
       "</div>"
      ],
      "text/plain": [
       "                             name 1_month\n",
       "0       NASDAQ TRANSPORTATION IX   +0.85%\n",
       "1     S&amp;P 600 SMALLCAP INDEX   -0.72%\n",
       "2             RUSSELL 2000 INDEX   -0.44%\n",
       "3           NASDAQ BIOTECH INDEX   +1.25%\n",
       "4           DOW JONES INDUS. AVG   +1.27%\n",
       "..                            ...     ...\n",
       "212             MSE Top 20 Index   -3.67%\n",
       "213            MSCI ASIA APEX 50   +8.28%\n",
       "214         Laos Composite Index   -2.73%\n",
       "215     PSEi - PHILIPPINE SE IDX   +3.02%\n",
       "216     SRI LANKA COLOMBO ALL SH   +3.89%\n",
       "\n",
       "[217 rows x 2 columns]"
      ]
     },
     "execution_count": 4,
     "metadata": {},
     "output_type": "execute_result"
    }
   ],
   "source": [
    "# Regex to catch the name of the company between the div tags\n",
    "regname = re.compile('div.*>(.*)</div')\n",
    "# Regex to catch the percent change between the td tags\n",
    "regpct = re.compile('td.*>(.*)</td')\n",
    "\n",
    "# Iterate through each row in the table\n",
    "for index,row in df.iterrows():\n",
    "    temprow = str(row['data']).split('> <')\n",
    "\n",
    "    name = regname.match(temprow[4]).group(1)\n",
    "    pct = regpct.match(temprow[10]).group(1)\n",
    "\n",
    "    df.set_value(index,'name',name)\n",
    "    df.set_value(index,'1_month',pct)\n",
    "\n",
    "# Delete unneeded column\n",
    "del df['data']\n",
    "df"
   ]
  },
  {
   "cell_type": "markdown",
   "metadata": {},
   "source": [
    "# Exploratory Data Analysis\n",
    "***\n",
    "With our data all nice and sorted, it is time to begin some exploratory data analysis! We're going to want to analyze the trends and directions in the various world markets right? Unfortunately, the data provided from Bloomberg is not even close to significant enough to perform any sort of statistical analysis or exploratory data analysis. The Bloomberg data only provides current market data and unless you only want to find basic information such as the average market growth for the various regions, you're going to need historic data. \n",
    "\n",
    "Don't worry though, as all of what we did thus far has not gone to waste since it introduced the concept and basics of web scraping, data parsing using BeautifulSoup, and data storage. For the rest of this tutorial, we will be using historic stock data obtained through Google finance. A nifty feature from pandas allows us to directly import a CSV file into a pandas dataframe. \n",
    "\n",
    "This code below will pull historic stock data from the past 5 years for Apple (AAPL) and IBM (IBM):"
   ]
  },
  {
   "cell_type": "code",
   "execution_count": 5,
   "metadata": {
    "collapsed": false
   },
   "outputs": [
    {
     "data": {
      "text/html": [
       "<div>\n",
       "<table border=\"1\" class=\"dataframe\">\n",
       "  <thead>\n",
       "    <tr style=\"text-align: right;\">\n",
       "      <th></th>\n",
       "      <th>Date</th>\n",
       "      <th>Open</th>\n",
       "      <th>High</th>\n",
       "      <th>Low</th>\n",
       "      <th>Close</th>\n",
       "      <th>Volume</th>\n",
       "    </tr>\n",
       "  </thead>\n",
       "  <tbody>\n",
       "    <tr>\n",
       "      <th>0</th>\n",
       "      <td>1-May-17</td>\n",
       "      <td>145.10</td>\n",
       "      <td>147.20</td>\n",
       "      <td>144.96</td>\n",
       "      <td>146.58</td>\n",
       "      <td>33602943</td>\n",
       "    </tr>\n",
       "    <tr>\n",
       "      <th>1</th>\n",
       "      <td>28-Apr-17</td>\n",
       "      <td>144.09</td>\n",
       "      <td>144.30</td>\n",
       "      <td>143.27</td>\n",
       "      <td>143.65</td>\n",
       "      <td>20860358</td>\n",
       "    </tr>\n",
       "    <tr>\n",
       "      <th>2</th>\n",
       "      <td>27-Apr-17</td>\n",
       "      <td>143.92</td>\n",
       "      <td>144.16</td>\n",
       "      <td>143.31</td>\n",
       "      <td>143.79</td>\n",
       "      <td>14246347</td>\n",
       "    </tr>\n",
       "    <tr>\n",
       "      <th>3</th>\n",
       "      <td>26-Apr-17</td>\n",
       "      <td>144.47</td>\n",
       "      <td>144.60</td>\n",
       "      <td>143.38</td>\n",
       "      <td>143.68</td>\n",
       "      <td>20041241</td>\n",
       "    </tr>\n",
       "    <tr>\n",
       "      <th>4</th>\n",
       "      <td>25-Apr-17</td>\n",
       "      <td>143.91</td>\n",
       "      <td>144.90</td>\n",
       "      <td>143.87</td>\n",
       "      <td>144.53</td>\n",
       "      <td>18871501</td>\n",
       "    </tr>\n",
       "    <tr>\n",
       "      <th>...</th>\n",
       "      <td>...</td>\n",
       "      <td>...</td>\n",
       "      <td>...</td>\n",
       "      <td>...</td>\n",
       "      <td>...</td>\n",
       "      <td>...</td>\n",
       "    </tr>\n",
       "    <tr>\n",
       "      <th>1253</th>\n",
       "      <td>7-May-12</td>\n",
       "      <td>80.21</td>\n",
       "      <td>81.82</td>\n",
       "      <td>80.18</td>\n",
       "      <td>81.35</td>\n",
       "      <td>115073217</td>\n",
       "    </tr>\n",
       "    <tr>\n",
       "      <th>1254</th>\n",
       "      <td>4-May-12</td>\n",
       "      <td>82.44</td>\n",
       "      <td>82.62</td>\n",
       "      <td>80.74</td>\n",
       "      <td>80.75</td>\n",
       "      <td>132497421</td>\n",
       "    </tr>\n",
       "    <tr>\n",
       "      <th>1255</th>\n",
       "      <td>3-May-12</td>\n",
       "      <td>84.36</td>\n",
       "      <td>84.49</td>\n",
       "      <td>82.90</td>\n",
       "      <td>83.12</td>\n",
       "      <td>97637057</td>\n",
       "    </tr>\n",
       "    <tr>\n",
       "      <th>1256</th>\n",
       "      <td>2-May-12</td>\n",
       "      <td>82.89</td>\n",
       "      <td>83.91</td>\n",
       "      <td>82.69</td>\n",
       "      <td>83.71</td>\n",
       "      <td>106906016</td>\n",
       "    </tr>\n",
       "    <tr>\n",
       "      <th>1257</th>\n",
       "      <td>1-May-12</td>\n",
       "      <td>83.56</td>\n",
       "      <td>85.25</td>\n",
       "      <td>83.03</td>\n",
       "      <td>83.16</td>\n",
       "      <td>152749513</td>\n",
       "    </tr>\n",
       "  </tbody>\n",
       "</table>\n",
       "<p>1258 rows × 6 columns</p>\n",
       "</div>"
      ],
      "text/plain": [
       "           Date    Open    High     Low   Close     Volume\n",
       "0      1-May-17  145.10  147.20  144.96  146.58   33602943\n",
       "1     28-Apr-17  144.09  144.30  143.27  143.65   20860358\n",
       "2     27-Apr-17  143.92  144.16  143.31  143.79   14246347\n",
       "3     26-Apr-17  144.47  144.60  143.38  143.68   20041241\n",
       "4     25-Apr-17  143.91  144.90  143.87  144.53   18871501\n",
       "...         ...     ...     ...     ...     ...        ...\n",
       "1253   7-May-12   80.21   81.82   80.18   81.35  115073217\n",
       "1254   4-May-12   82.44   82.62   80.74   80.75  132497421\n",
       "1255   3-May-12   84.36   84.49   82.90   83.12   97637057\n",
       "1256   2-May-12   82.89   83.91   82.69   83.71  106906016\n",
       "1257   1-May-12   83.56   85.25   83.03   83.16  152749513\n",
       "\n",
       "[1258 rows x 6 columns]"
      ]
     },
     "execution_count": 5,
     "metadata": {},
     "output_type": "execute_result"
    }
   ],
   "source": [
    "apple = pd.read_csv(\"http://www.google.com/finance/historical?cid=22144&startdate=May+1%2C+2012&\" + \n",
    "                    \"enddate=May+1%2C+2017&num=30&ei=bAoeWdHiDseOep_UvNgC&output=csv\")\n",
    "ibm = pd.read_csv(\"http://www.google.com/finance/historical?cid=18241&startdate=May+1%2C+2012&\" + \n",
    "                  \"enddate=May+1%2C+2017&num=30&ei=vAoeWeDuJITBeKing8gG&output=csv\")\n",
    "apple"
   ]
  },
  {
   "cell_type": "markdown",
   "metadata": {},
   "source": [
    "As we can see above, all the data is neatly imported! Now we want to convert the 'Date' column into a value that can be utilized in plotting and calculations because the current representation for the stored value is a string, which isn't compatible with what we'll be doing. To accomplish this task, we will be utilizing pandas' to_datetime() function which will convert the values into a datetime object."
   ]
  },
  {
   "cell_type": "code",
   "execution_count": 6,
   "metadata": {
    "collapsed": false
   },
   "outputs": [
    {
     "data": {
      "text/html": [
       "<div>\n",
       "<table border=\"1\" class=\"dataframe\">\n",
       "  <thead>\n",
       "    <tr style=\"text-align: right;\">\n",
       "      <th></th>\n",
       "      <th>Date</th>\n",
       "      <th>Open</th>\n",
       "      <th>High</th>\n",
       "      <th>Low</th>\n",
       "      <th>Close</th>\n",
       "      <th>Volume</th>\n",
       "    </tr>\n",
       "  </thead>\n",
       "  <tbody>\n",
       "    <tr>\n",
       "      <th>0</th>\n",
       "      <td>2017-05-01</td>\n",
       "      <td>145.10</td>\n",
       "      <td>147.20</td>\n",
       "      <td>144.96</td>\n",
       "      <td>146.58</td>\n",
       "      <td>33602943</td>\n",
       "    </tr>\n",
       "    <tr>\n",
       "      <th>1</th>\n",
       "      <td>2017-04-28</td>\n",
       "      <td>144.09</td>\n",
       "      <td>144.30</td>\n",
       "      <td>143.27</td>\n",
       "      <td>143.65</td>\n",
       "      <td>20860358</td>\n",
       "    </tr>\n",
       "    <tr>\n",
       "      <th>2</th>\n",
       "      <td>2017-04-27</td>\n",
       "      <td>143.92</td>\n",
       "      <td>144.16</td>\n",
       "      <td>143.31</td>\n",
       "      <td>143.79</td>\n",
       "      <td>14246347</td>\n",
       "    </tr>\n",
       "    <tr>\n",
       "      <th>3</th>\n",
       "      <td>2017-04-26</td>\n",
       "      <td>144.47</td>\n",
       "      <td>144.60</td>\n",
       "      <td>143.38</td>\n",
       "      <td>143.68</td>\n",
       "      <td>20041241</td>\n",
       "    </tr>\n",
       "    <tr>\n",
       "      <th>4</th>\n",
       "      <td>2017-04-25</td>\n",
       "      <td>143.91</td>\n",
       "      <td>144.90</td>\n",
       "      <td>143.87</td>\n",
       "      <td>144.53</td>\n",
       "      <td>18871501</td>\n",
       "    </tr>\n",
       "    <tr>\n",
       "      <th>...</th>\n",
       "      <td>...</td>\n",
       "      <td>...</td>\n",
       "      <td>...</td>\n",
       "      <td>...</td>\n",
       "      <td>...</td>\n",
       "      <td>...</td>\n",
       "    </tr>\n",
       "    <tr>\n",
       "      <th>1253</th>\n",
       "      <td>2012-05-07</td>\n",
       "      <td>80.21</td>\n",
       "      <td>81.82</td>\n",
       "      <td>80.18</td>\n",
       "      <td>81.35</td>\n",
       "      <td>115073217</td>\n",
       "    </tr>\n",
       "    <tr>\n",
       "      <th>1254</th>\n",
       "      <td>2012-05-04</td>\n",
       "      <td>82.44</td>\n",
       "      <td>82.62</td>\n",
       "      <td>80.74</td>\n",
       "      <td>80.75</td>\n",
       "      <td>132497421</td>\n",
       "    </tr>\n",
       "    <tr>\n",
       "      <th>1255</th>\n",
       "      <td>2012-05-03</td>\n",
       "      <td>84.36</td>\n",
       "      <td>84.49</td>\n",
       "      <td>82.90</td>\n",
       "      <td>83.12</td>\n",
       "      <td>97637057</td>\n",
       "    </tr>\n",
       "    <tr>\n",
       "      <th>1256</th>\n",
       "      <td>2012-05-02</td>\n",
       "      <td>82.89</td>\n",
       "      <td>83.91</td>\n",
       "      <td>82.69</td>\n",
       "      <td>83.71</td>\n",
       "      <td>106906016</td>\n",
       "    </tr>\n",
       "    <tr>\n",
       "      <th>1257</th>\n",
       "      <td>2012-05-01</td>\n",
       "      <td>83.56</td>\n",
       "      <td>85.25</td>\n",
       "      <td>83.03</td>\n",
       "      <td>83.16</td>\n",
       "      <td>152749513</td>\n",
       "    </tr>\n",
       "  </tbody>\n",
       "</table>\n",
       "<p>1258 rows × 6 columns</p>\n",
       "</div>"
      ],
      "text/plain": [
       "           Date    Open    High     Low   Close     Volume\n",
       "0    2017-05-01  145.10  147.20  144.96  146.58   33602943\n",
       "1    2017-04-28  144.09  144.30  143.27  143.65   20860358\n",
       "2    2017-04-27  143.92  144.16  143.31  143.79   14246347\n",
       "3    2017-04-26  144.47  144.60  143.38  143.68   20041241\n",
       "4    2017-04-25  143.91  144.90  143.87  144.53   18871501\n",
       "...         ...     ...     ...     ...     ...        ...\n",
       "1253 2012-05-07   80.21   81.82   80.18   81.35  115073217\n",
       "1254 2012-05-04   82.44   82.62   80.74   80.75  132497421\n",
       "1255 2012-05-03   84.36   84.49   82.90   83.12   97637057\n",
       "1256 2012-05-02   82.89   83.91   82.69   83.71  106906016\n",
       "1257 2012-05-01   83.56   85.25   83.03   83.16  152749513\n",
       "\n",
       "[1258 rows x 6 columns]"
      ]
     },
     "execution_count": 6,
     "metadata": {},
     "output_type": "execute_result"
    }
   ],
   "source": [
    "apple['Date'] = pd.to_datetime(apple['Date'], infer_datetime_format=True)\n",
    "ibm['Date'] = pd.to_datetime(ibm['Date'], infer_datetime_format=True)\n",
    "\n",
    "apple"
   ]
  },
  {
   "cell_type": "markdown",
   "metadata": {},
   "source": [
    "With this data, we can use python's 'pyplot' library to create some simple visualiztions of each stock's performance over a 5 year span. Some basic input arguments are used in this tutorial but more documentation and options such as plot color, marker, and subplots can be found here: https://matplotlib.org/users/pyplot_tutorial.html\n",
    "\n",
    "We will be plotting both Apple and IBM's stock on the same graph to see if there is any sort of visually identifiable relationship between them. Additionally we will be using the python 'numpy' library's built-in polyfit function to illustrate a polynomial fit to the data. Later on in this tutorial we will be going over how to manually create a regression line from scratch through machine learning."
   ]
  },
  {
   "cell_type": "code",
   "execution_count": 7,
   "metadata": {
    "collapsed": false
   },
   "outputs": [
    {
     "data": {
      "image/png": "[encoded data removed]",
      "text/plain": [
       "<matplotlib.figure.Figure at 0x2488ae29b0>"
      ]
     },
     "metadata": {},
     "output_type": "display_data"
    }
   ],
   "source": [
    "# Set the size of the plot to be created (width x length)\n",
    "plt.figure(figsize=(18,9))\n",
    "\n",
    "# We utilize pyplot to graph apple's date as the x-axis vs apple's stock open as the y-axis\n",
    "# The third argument for the plot, 'ro' indicates the color and symbol of each point\n",
    "plt.plot(apple['Date'], apple['Open'], 'ro')\n",
    "\n",
    "plt.plot(ibm['Date'], ibm['Open'], 'bo')\n",
    "\n",
    "# Here we create a legend for the plot using our custom values and set the location\n",
    "# to be automatically placed in the 'best' optimal spot\n",
    "plt.legend(['Apple [AAPL]','IBM [IBM]'],loc=\"best\")\n",
    "\n",
    "# Plot functions for setting the basic labels: title, x-axis, y-axis\n",
    "plt.title('Apple vs. IBM Stock Open 2012-2017')\n",
    "plt.xlabel('Year')\n",
    "plt.ylabel('Cost per share ($)')\n",
    "\n",
    "# Calculate the coefficients\n",
    "coef = np.polyfit(range(1258), ibm['Open'], 1)\n",
    "coef2 = np.polyfit(range(1258), apple['Open'], 1)\n",
    "\n",
    "# Calculate the polynomial\n",
    "pol = np.poly1d(coef)\n",
    "ys = pol(range(1258))    \n",
    "pol2 = np.poly1d(coef2)\n",
    "ys2 = pol2(range(1258))  \n",
    "\n",
    "# Plot the regression lines on the graph\n",
    "plt.plot(ibm['Date'],ys)\n",
    "plt.plot(apple['Date'],ys2)\n",
    "\n",
    "# Display the plot\n",
    "plt.show()"
   ]
  },
  {
   "cell_type": "markdown",
   "metadata": {},
   "source": [
    "Notice how despite the amount of rows and columns being about 6x as big as our previous dataset, all the graphing and regression methods are executed extremely quickly due to pandas' efficiency! Pandas' ability to handle large amounts of data is a key reason why it is utilized so heavily in the field of data science. \n",
    "\n",
    "Looking at that graph it almost seems as if Apple's stock performance is inversely correlated with IBM's stock performance, meaning as one stock increases, the other's goes down. We can't tell for sure just yet if this apparent trend is just coincidental or if there happen to be any sort of statistical corroboration. With that said, we can segway into some basic hypothesis testing to affirm whether or not there is a relationship between these stocks.\n",
    "\n",
    "# Hypothesis Testing\n",
    "***\n",
    "Hypothesis testing is an act in statistics whereby an individual tests an assumption they come up with regarding a population parameter. In this case, what we want to test is whether or not there is a correlation between Apple and IBM's stock prices. The process to hypothesis testing is as follows:\n",
    ">1 - Come up with a null hypothesis\n",
    "\n",
    "* Null Hypothesis: A null hypothesis is the hypothesis that there is no significant difference between two specified populations\n",
    "\n",
    "The null hypothesis for our scenario would be the assumption that there is 0 correlation between Apple and IBM's stock prices over the 5 year span.\n",
    ">2 - Set your significance level\n",
    "\n",
    "* Significance Level: α(alpha) is called the significance level, and it is the probability of rejecting the null hypothesis given that it is true\n",
    "\n",
    "Generally the significance level is set at 5%, 1%, or 0.5% if you want to be really certain.\n",
    ">3 - Compute the probability\n",
    "\n",
    "* P-Value: The p-value or probability value is the probability for a given statistical model that, when the null hypothesis is true, the statistical summary (such as the sample mean difference between two compared groups) would be the same as or more extreme than the actual observed results.\n",
    "\n",
    "When you perform a hypothesis test in statistics, a p-value helps you determine the significance of your results and if the value is less than the significance level that you set, you can reject the null hypothesis.\n",
    ">4 - Decide whether to reject or accept the null hypothesis\n",
    "\n",
    "Finally, when the tests have been conducted and you have your results, you have to make a decision of whether to accept or reject the null hypothesis. Usually this is fairly simple since if you set your significance level at 5% (0.05) and you get a p-value of 0.01, clearly it is below the threshold and you can safely reject the null hypothesis. However, there are a couple errors to be aware of in hypothesis testing:\n",
    "* Type I Error: You accept the null hypothesis when it is in fact incorrect\n",
    "* Type II Error: You reject the null hypothesis when it is in face correct\n",
    "\n",
    "\n",
    "Now that this quick hypothesis testing lesson is over, we can get to the actual code for performing the test on the data. The 'scipy' library has a very hefty and extensive statistics support. We can perform a [Pearson correlation test](https://en.wikipedia.org/wiki/Pearson_correlation_coefficient) using just one line of code:"
   ]
  },
  {
   "cell_type": "code",
   "execution_count": 8,
   "metadata": {
    "collapsed": false
   },
   "outputs": [
    {
     "name": "stdout",
     "output_type": "stream",
     "text": [
      "Correlation between Apple and IBM: -0.605194980681\n",
      "P-Value: 1.47786949443e-126\n"
     ]
    }
   ],
   "source": [
    "cor,p = stats.pearsonr(apple['Open'],ibm['Open'])\n",
    "print(\"Correlation between Apple and IBM: \" + str(cor) + \"\\nP-Value: \" + str(p))"
   ]
  },
  {
   "cell_type": "markdown",
   "metadata": {},
   "source": [
    "Looking at the above results, we can see that there is a correlation of -0.605 which is quite a high value showing that as Apple's stock value goes up, IBM's stock value goes down. The Pearson test has a value range of -1 to +1. The resultant p-value from this test is 1.478e-126 which is extremely low, nearing 0 which means we can very certainly reject the null hypothesis that there is no correlation between Apple and IBM's stock.\n",
    "\n",
    "# Machine Learning\n",
    "***\n",
    "Below you will find code for a basic gradient descent algorithm as well as code for generating a random dataset for usage with the machine learning algorithm's prediction."
   ]
  },
  {
   "cell_type": "code",
   "execution_count": 9,
   "metadata": {
    "collapsed": false
   },
   "outputs": [
    {
     "data": {
      "image/png": "[encoded data removed]",
      "text/plain": [
       "<matplotlib.figure.Figure at 0x2486b08d68>"
      ]
     },
     "metadata": {},
     "output_type": "display_data"
    }
   ],
   "source": [
    "# Gradient descent algorithm\n",
    "def grad_descent(X, y, T, alpha):\n",
    "    m, n = X.shape # m = #examples, n = #features\n",
    "    theta = np.zeros(n) # initialize parameters\n",
    "    f = np.zeros(T) # track loss over time\n",
    "    for i in range(T):\n",
    "        # loss for current parameter vector theta\n",
    "        f[i] = 0.5*np.linalg.norm(X.dot(theta) - y)**2\n",
    "        # compute steepest ascent at f(theta)\n",
    "        g = X.T.dot(X.dot(theta) - y)\n",
    "        # step down the gradient\n",
    "        theta = theta - alpha*g\n",
    "    return theta, f\n",
    "\n",
    "# Generate random dataset\n",
    "x, y = datasets.make_regression(n_samples=150, n_features=1, noise=21) \n",
    "\n",
    "# Get shape using numpy\n",
    "m, n = np.shape(x)\n",
    "\n",
    "x = np.c_[ np.ones(m), x] \n",
    "temp = x.shape[1]\n",
    "\n",
    "theta,f = grad_descent(x, y, 1000, 0.01)\n",
    "for i in range(temp):\n",
    "    # Calculate the prediction\n",
    "    yp = theta[0] + theta[1]*x \n",
    "\n",
    "# Plot data points\n",
    "plt.plot(x[:,1],y,'c*')\n",
    "\n",
    "# Plot prediction line\n",
    "plt.plot(x,yp,'r--')\n",
    "\n",
    "plt.show()"
   ]
  },
  {
   "cell_type": "markdown",
   "metadata": {},
   "source": [
    "For more resources on implementing your own linear regression algorithm and a more in-depth look at gradient descent, look here: \n",
    "* http://machinelearningmastery.com/implement-simple-linear-regression-scratch-python/ \n",
    "* http://www.pyimagesearch.com/2016/10/10/gradient-descent-with-python/"
   ]
  }
 ],
 "metadata": {
  "kernelspec": {
   "display_name": "Python 3",
   "language": "python",
   "name": "python3"
  },
  "language_info": {
   "codemirror_mode": {
    "name": "ipython",
    "version": 3
   },
   "file_extension": ".py",
   "mimetype": "text/x-python",
   "name": "python",
   "nbconvert_exporter": "python",
   "pygments_lexer": "ipython3",
   "version": "3.6.0"
  }
 },
 "nbformat": 4,
 "nbformat_minor": 2
}
